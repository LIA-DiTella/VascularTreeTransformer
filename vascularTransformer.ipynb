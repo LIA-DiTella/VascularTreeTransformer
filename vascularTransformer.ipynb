{
 "cells": [
  {
   "cell_type": "code",
   "execution_count": null,
   "metadata": {},
   "outputs": [],
   "source": [
    "import torch\n",
    "import torch.nn as nn\n",
    "import torch.optim as optim\n",
    "import matplotlib.pyplot as plt\n",
    "import torch.nn.functional as F\n",
    "import numpy as np\n",
    "from generateTrees import generate_random_tree, serialize, deserialize\n",
    "from torch.utils.data import Dataset, DataLoader\n",
    "import os"
   ]
  },
  {
   "cell_type": "markdown",
   "metadata": {},
   "source": [
    "# Define the Transformer model"
   ]
  },
  {
   "cell_type": "code",
   "execution_count": null,
   "metadata": {},
   "outputs": [],
   "source": [
    "\n",
    "class DecoderOnlyTransformer(nn.Module):\n",
    "    def __init__(self, vocab_size, d_model, nhead, num_layers):\n",
    "        super(DecoderOnlyTransformer, self).__init__()\n",
    "        self.embedding = nn.Embedding(vocab_size, d_model)\n",
    "        self.decoder_layers = nn.TransformerDecoderLayer(d_model, nhead)\n",
    "        self.transformer_decoder = nn.TransformerDecoder(self.decoder_layers, num_layers)\n",
    "        self.fc = nn.Linear(d_model, vocab_size)\n",
    "\n",
    "    def forward(self, x):\n",
    "        #print(\"shape x\", x.shape)\n",
    "        x = self.embedding(x)\n",
    "        #print(\"embedding\", x.shape)\n",
    "        memory = torch.zeros_like(x)\n",
    "        output = self.transformer_decoder(x, memory)\n",
    "        output = self.fc(output)\n",
    "        return output"
   ]
  },
  {
   "cell_type": "markdown",
   "metadata": {},
   "source": [
    "# Function for sequence generation"
   ]
  },
  {
   "cell_type": "code",
   "execution_count": null,
   "metadata": {},
   "outputs": [],
   "source": [
    "def generate_sequence(model, start_token, stop_token, max_length=10):\n",
    "    model.eval()  # Set the model to evaluation mode\n",
    "    with torch.no_grad():\n",
    "        current_token = torch.tensor([start_token])\n",
    "\n",
    "        generated_sequence = [start_token]\n",
    "\n",
    "        # Generate sequences until the stop token is encountered or reach max length\n",
    "        for _ in range(max_length):\n",
    "            logits = model(current_token.unsqueeze(0))  # Add batch dimension\n",
    "            \n",
    "\n",
    "            # Sample the next token using argmax\n",
    "            next_token = torch.argmax(logits[:, -1, :]).item()\n",
    "            # Append the next token to the generated sequence\n",
    "            generated_sequence.append(next_token)\n",
    "\n",
    "            # If the stop token is encountered, break the loop\n",
    "            if next_token == stop_token:\n",
    "                break\n",
    "\n",
    "            # Update the current token for the next iteration\n",
    "            current_token = torch.tensor([next_token])\n",
    "\n",
    "        return generated_sequence"
   ]
  },
  {
   "cell_type": "markdown",
   "metadata": {},
   "source": [
    "# Data Loader"
   ]
  },
  {
   "cell_type": "code",
   "execution_count": null,
   "metadata": {},
   "outputs": [],
   "source": [
    "def read_tree(filename, dir):\n",
    "    with open(dir +'/' +filename, \"r\") as f:\n",
    "        byte = f.read() \n",
    "        return byte"
   ]
  },
  {
   "cell_type": "code",
   "execution_count": null,
   "metadata": {},
   "outputs": [],
   "source": [
    "def my_collate(batch):\n",
    "    return batch\n",
    "\n",
    "\n",
    "class tDataset(Dataset):\n",
    "    def __init__(self, l, dir, transform=None):\n",
    "        self.names = l\n",
    "        self.transform = transform\n",
    "        self.data = [] #lista con las strings de todos los arboles\n",
    "        for file in self.names:\n",
    "            self.data.append(read_tree(file, dir))\n",
    "\n",
    "    def __len__(self):\n",
    "        return len(self.names)\n",
    "\n",
    "    def __getitem__(self, idx):\n",
    "        tree = self.data[idx]\n",
    "        return tree\n",
    "\n",
    "batch_size = 1"
   ]
  },
  {
   "cell_type": "markdown",
   "metadata": {},
   "source": [
    "# Training"
   ]
  },
  {
   "cell_type": "code",
   "execution_count": null,
   "metadata": {},
   "outputs": [],
   "source": [
    "vocab_size = 100\n",
    "model = DecoderOnlyTransformer(vocab_size=vocab_size, d_model=512, nhead=8, num_layers=4)\n",
    "\n",
    "\n",
    "# Loss function and optimizer\n",
    "criterion = nn.CrossEntropyLoss()\n",
    "optimizer = optim.Adam(model.parameters(), lr=0.001)\n",
    "\n",
    "# Training loop with batches\n",
    "num_epochs = 100\n",
    "losses = []\n",
    "\n",
    "folder = \"trees\"\n",
    "t_list = os.listdir( folder)\n",
    "dataset = tDataset(t_list, folder )\n",
    "data_loader = DataLoader(dataset, batch_size = batch_size, shuffle=True, collate_fn=my_collate)\n",
    "\n",
    "for epoch in range(num_epochs):\n",
    "    loss_batch = []\n",
    "    for batch_idx, batch in enumerate(data_loader):\n",
    "        print(\"batch\", batch)\n",
    "        optimizer.zero_grad()\n",
    "        input_sequence = batch[:, :-1]\n",
    "        target_sequence = batch[:, 1:]\n",
    "\n",
    "        # Forward pass\n",
    "        outputs = model(input_sequence)\n",
    "        #print(\"input\", input_sequence)\n",
    "        #print(\"target\", target_sequence)\n",
    "        #print(\"output\", outputs)\n",
    "        # Calculate the loss using the shifted target sequence\n",
    "        #breakpoint()\n",
    "        loss = criterion(outputs.view(-1, vocab_size), target_sequence.reshape(-1))\n",
    "        loss.backward()\n",
    "        optimizer.step()\n",
    "        loss_batch.append(loss.item())\n",
    "    losses.append(np.average(loss_batch))\n",
    "    if (epoch) % 5 == 0:\n",
    "        print(f'Epoch [{epoch+1}/{num_epochs}], Loss: {np.average(loss_batch)}')\n",
    "\n",
    "# Plotting the loss curve\n",
    "plt.plot(losses)\n",
    "plt.xlabel('Epochs')\n",
    "plt.ylabel('Cross-Entropy Loss')\n",
    "plt.title('Training Loss Curve')\n",
    "plt.show()\n",
    "\n",
    "# Choose a starting token and stop token for generation\n",
    "start_token = torch.randint(0, vocab_size, (1,))\n",
    "stop_token = torch.randint(0, vocab_size, (1,))\n",
    "\n",
    "# Generate a sequence using autoregressive sampling\n",
    "generated_sequence = generate_sequence(model, start_token.item(), stop_token.item(), max_length=10)\n",
    "\n",
    "\n",
    "# Print the generated sequence\n",
    "print(\"Generated Sequence:\")\n",
    "print(generated_sequence)"
   ]
  }
 ],
 "metadata": {
  "kernelspec": {
   "display_name": "py_torch",
   "language": "python",
   "name": "python3"
  },
  "language_info": {
   "name": "python",
   "version": "3.10.12"
  }
 },
 "nbformat": 4,
 "nbformat_minor": 2
}
